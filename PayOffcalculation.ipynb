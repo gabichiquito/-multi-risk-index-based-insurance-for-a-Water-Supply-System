{
 "cells": [
  {
   "cell_type": "markdown",
   "metadata": {},
   "source": [
    "# Insurance premium calculator"
   ]
  },
  {
   "cell_type": "code",
   "execution_count": null,
   "metadata": {},
   "outputs": [],
   "source": [
    "#Import libraries\n",
    "import pandas as pd\n",
    "import numpy as np\n",
    "import matplotlib.pyplot as plt\n",
    "import seaborn as sns\n",
    "import os\n",
    "import calendar\n",
    "import datetime\n",
    "from datetime import date\n",
    "import lmoments\n",
    "import statistics\n",
    "from scipy import stats"
   ]
  },
  {
   "cell_type": "code",
   "execution_count": 1,
   "metadata": {},
   "outputs": [],
   "source": [
    "#Read data\n",
    "df=pd.read_csv('/syntheticseries.csv',sep=',')\n",
    "df['Datetime']=pd.to_datetime(df['timestamp.1'])\n",
    "df=df.set_index(['Datetime'])\n",
    "df.head()"
   ]
  },
  {
   "cell_type": "code",
   "execution_count": 4,
   "metadata": {},
   "outputs": [],
   "source": [
    "#Calculate the indice\n",
    "#in this case: Two year of accumulated precipitation data\n",
    "df2 = df.rolling('730d').sum()\n",
    "df2.to_csv(r'P24-daily.csv', sep=',')\n",
    "df2.head()\n"
   ]
  },
  {
   "cell_type": "code",
   "execution_count": 6,
   "metadata": {},
   "outputs": [],
   "source": [
    "#Define the threshold and calculate the number of exceedances\n",
    "#in this case the threshold is: 2424 mm\n",
    "#if the value is bellow the threshold (for droughts), the loss is R$ 775229.65 (which corresponds to the calculated value in R$ of the damage caused by the drought per day) \n",
    "def filter (df2,columnname):\n",
    "    df2.loc[df2[columnname]<=2424,columnname+'_'+'diff']=775229.65 \n",
    "    df2.loc[df2[columnname]>2424,columnname+'_'+'diff']=0\n"
   ]
  },
  {
   "cell_type": "code",
   "execution_count": 7,
   "metadata": {},
   "outputs": [],
   "source": [
    "#Apply the filter in all the columns\n",
    "columnname = df2.columns\n",
    "for c in columnname:\n",
    "    filter(df2,c)"
   ]
  },
  {
   "cell_type": "code",
   "execution_count": 8,
   "metadata": {},
   "outputs": [],
   "source": [
    "#Save only the columns with the suffix _diff\n",
    "##Salva apenas as colunas novas com o sufixo 'diff'\n",
    "drycolumns=df2.filter(regex='diff')\n",
    "\n",
    "#Select the period of analysis\n",
    "dry=drycolumns.loc['1985-01-01':'2013-12-31'] "
   ]
  },
  {
   "cell_type": "code",
   "execution_count": 9,
   "metadata": {},
   "outputs": [],
   "source": [
    "#Payoff calculation - Annualy accumulated losses.\n",
    "payoffannual=dry.resample('Y').sum()\n",
    "payoffannual.to_csv(r'payoff.csv', sep=',')"
   ]
  },
  {
   "cell_type": "code",
   "execution_count": 10,
   "metadata": {},
   "outputs": [],
   "source": [
    "#Define the maximum payout function\n",
    "#This is arbitrary\n",
    "Max=282958820.64\n",
    "def maxpayoff(payoff,columnname):\n",
    "    payoff.loc[payoff[columnname]>=Max,columnname]=Max\n",
    "    payoff.loc[payoff[columnname]<Max,columnname]"
   ]
  },
  {
   "cell_type": "code",
   "execution_count": null,
   "metadata": {},
   "outputs": [],
   "source": [
    "#Apply the maximum payout function for all columns and save the results\n",
    "columnname = payoffannual.columns\n",
    "for c in columnname:\n",
    "    maxpay=maxpayoff(payoffannual,c)\n",
    "payoffannual.to_csv(r'payofftotal', sep=',', columns=maxpay)"
   ]
  }
 ],
 "metadata": {
  "kernelspec": {
   "display_name": "geopandas_env",
   "language": "python",
   "name": "python3"
  },
  "language_info": {
   "codemirror_mode": {
    "name": "ipython",
    "version": 3
   },
   "file_extension": ".py",
   "mimetype": "text/x-python",
   "name": "python",
   "nbconvert_exporter": "python",
   "pygments_lexer": "ipython3",
   "version": "3.8.5"
  }
 },
 "nbformat": 4,
 "nbformat_minor": 2
}
